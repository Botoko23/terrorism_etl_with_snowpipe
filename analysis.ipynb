{
 "cells": [
  {
   "cell_type": "code",
   "execution_count": 1,
   "metadata": {},
   "outputs": [],
   "source": [
    "import pandas as pd\n"
   ]
  },
  {
   "cell_type": "markdown",
   "metadata": {},
   "source": [
    "#### country, region, location, summary, doubt ter, multiple, attacktype1 2 3"
   ]
  },
  {
   "cell_type": "code",
   "execution_count": 3,
   "metadata": {},
   "outputs": [],
   "source": [
    "cols_to_drop = ['eventid', 'approxdate', 'country', 'region', 'location', 'specificity', 'vicinity', 'alternative'   \n",
    "                'multiple', 'attacktype1', 'attacktype2', 'attacktype3', 'targtype1', 'targtype2', 'targtype3',\n",
    "                'targsubtype1', 'targsubtype2', 'targsubtype3', 'natlty1', 'natlty2', 'natlty3','claimmode', 'claimmode_txt',\n",
    "                'claimmode2', 'claimmode2_txt','claimmode3', 'claimmode3_txt', 'weaptype1', 'weapsubtype1', 'weaptype2', \n",
    "                'weapsubtype2', 'weaptype3', 'weapsubtype3', 'weaptype4', 'weapsubtype4', 'propcomment', 'hostkidoutcome', \n",
    "                'addnotes', 'scite1', 'scite2', 'scite3', 'dbsource', 'INT_LOG', 'INT_IDEO', 'INT_MISC', 'INT_ANY']"
   ]
  },
  {
   "cell_type": "code",
   "execution_count": 4,
   "metadata": {},
   "outputs": [
    {
     "name": "stderr",
     "output_type": "stream",
     "text": [
      "/var/folders/1g/q13cs_s54gz8b27r5pn3b9t00000gn/T/ipykernel_2061/588255205.py:1: DtypeWarning: Columns (31,33,54,61,62,63,90,92,94,96,114,115,121) have mixed types. Specify dtype option on import or set low_memory=False.\n",
      "  df1 = pd.read_csv('globalterrorismdb_0522dist.csv', encoding='latin1', usecols= lambda col: col not in cols_to_drop)\n",
      "/var/folders/1g/q13cs_s54gz8b27r5pn3b9t00000gn/T/ipykernel_2061/588255205.py:2: DtypeWarning: Columns (114,115) have mixed types. Specify dtype option on import or set low_memory=False.\n",
      "  df2 = pd.read_csv('globalterrorismdb_2021Jan-June_1222dist.csv', encoding='latin1', usecols= lambda col: col not in cols_to_drop)\n"
     ]
    }
   ],
   "source": [
    "df1 = pd.read_csv('globalterrorismdb_0522dist.csv', encoding='latin1', usecols= lambda col: col not in cols_to_drop)\n",
    "df2 = pd.read_csv('globalterrorismdb_2021Jan-June_1222dist.csv', encoding='latin1', usecols= lambda col: col not in cols_to_drop)"
   ]
  },
  {
   "cell_type": "code",
   "execution_count": 5,
   "metadata": {},
   "outputs": [],
   "source": [
    "merged_df = pd.concat([df1, df2], ignore_index=True)"
   ]
  },
  {
   "cell_type": "code",
   "execution_count": null,
   "metadata": {},
   "outputs": [],
   "source": []
  },
  {
   "cell_type": "code",
   "execution_count": 6,
   "metadata": {},
   "outputs": [
    {
     "data": {
      "text/plain": [
       "(214666, 91)"
      ]
     },
     "execution_count": 6,
     "metadata": {},
     "output_type": "execute_result"
    }
   ],
   "source": [
    "merged_df.shape"
   ]
  },
  {
   "cell_type": "code",
   "execution_count": 7,
   "metadata": {},
   "outputs": [],
   "source": [
    "merged_df.to_csv('all_terrorism_data.csv')"
   ]
  },
  {
   "cell_type": "code",
   "execution_count": 8,
   "metadata": {},
   "outputs": [
    {
     "name": "stderr",
     "output_type": "stream",
     "text": [
      "/var/folders/1g/q13cs_s54gz8b27r5pn3b9t00000gn/T/ipykernel_2061/2521985625.py:1: DtypeWarning: Columns (23,24,43,44,45,63,64,81,82,88) have mixed types. Specify dtype option on import or set low_memory=False.\n",
      "  merged_df = pd.read_csv('all_terrorism_data.csv', encoding='latin1', usecols= lambda col: col not in cols_to_drop)\n"
     ]
    }
   ],
   "source": [
    "merged_df = pd.read_csv('all_terrorism_data.csv', encoding='latin1', usecols= lambda col: col not in cols_to_drop)"
   ]
  },
  {
   "cell_type": "code",
   "execution_count": 9,
   "metadata": {},
   "outputs": [],
   "source": [
    "# Set display options to show all columns\n",
    "pd.set_option('display.max_columns', None)"
   ]
  },
  {
   "cell_type": "code",
   "execution_count": 10,
   "metadata": {},
   "outputs": [],
   "source": [
    "# merged_df['imonth'].replace(0, 'unknown', inplace=True)\n",
    "# merged_df['iday'].replace(0, 'unknown', inplace=True)"
   ]
  },
  {
   "cell_type": "code",
   "execution_count": 11,
   "metadata": {},
   "outputs": [],
   "source": [
    "merged_df['date'] = merged_df['iyear'].astype('str') + '-' + merged_df['imonth'].astype('str')  + '-' + merged_df['iday'].astype('str')"
   ]
  },
  {
   "cell_type": "code",
   "execution_count": 12,
   "metadata": {},
   "outputs": [],
   "source": [
    "merged_df['date'] = pd.to_datetime(merged_df['date'], errors='coerce')\n"
   ]
  },
  {
   "cell_type": "code",
   "execution_count": 13,
   "metadata": {},
   "outputs": [
    {
     "data": {
      "text/plain": [
       "array([nan, '08/03/1970', '15/03/1970', ..., '15/07/2021', '03/07/2021',\n",
       "       '08/07/2021'], dtype=object)"
      ]
     },
     "execution_count": 13,
     "metadata": {},
     "output_type": "execute_result"
    }
   ],
   "source": [
    "merged_df['resolution'].unique()"
   ]
  },
  {
   "cell_type": "code",
   "execution_count": 14,
   "metadata": {},
   "outputs": [],
   "source": [
    "merged_df.loc[(merged_df['crit1'] == 1) & (merged_df['crit2'] == 1) & (merged_df['crit3'] == 1), 'doubtterr'] = 0"
   ]
  },
  {
   "cell_type": "code",
   "execution_count": 15,
   "metadata": {},
   "outputs": [],
   "source": [
    "cols_start_with_n = [col for col in merged_df.columns if col.startswith('n') and not col.endswith('txt')]"
   ]
  },
  {
   "cell_type": "code",
   "execution_count": 16,
   "metadata": {},
   "outputs": [
    {
     "data": {
      "text/plain": [
       "['nperps',\n",
       " 'nperpcap',\n",
       " 'nkill',\n",
       " 'nkillus',\n",
       " 'nkillter',\n",
       " 'nwound',\n",
       " 'nwoundus',\n",
       " 'nwoundte',\n",
       " 'nhostkid',\n",
       " 'nhostkidus',\n",
       " 'nhours',\n",
       " 'ndays',\n",
       " 'nreleased']"
      ]
     },
     "execution_count": 16,
     "metadata": {},
     "output_type": "execute_result"
    }
   ],
   "source": [
    "cols_start_with_n"
   ]
  },
  {
   "cell_type": "code",
   "execution_count": 17,
   "metadata": {},
   "outputs": [],
   "source": [
    "merged_df[cols_start_with_n] = merged_df[cols_start_with_n].fillna(0).astype(int)"
   ]
  },
  {
   "cell_type": "code",
   "execution_count": 18,
   "metadata": {},
   "outputs": [
    {
     "name": "stdout",
     "output_type": "stream",
     "text": [
      "[-99, -9]\n",
      "[-99, -9]\n",
      "[]\n",
      "[]\n",
      "[]\n",
      "[]\n",
      "[]\n",
      "[]\n",
      "[-99]\n",
      "[-99]\n",
      "[-99, -9]\n",
      "[-99]\n",
      "[-99, -100]\n"
     ]
    }
   ],
   "source": [
    "for col in cols_start_with_n:\n",
    "    print(list(filter(lambda n: n < 0, merged_df[col].unique())))"
   ]
  },
  {
   "cell_type": "code",
   "execution_count": 3,
   "metadata": {},
   "outputs": [],
   "source": [
    "import pandas as pd\n",
    "\n",
    "pd.set_option('display.max_columns', None)\n",
    "import warnings\n",
    "warnings.filterwarnings('ignore')\n",
    "\n",
    "class Transfrom:\n",
    "    cols_to_use : list[str] = [ 'iyear', 'imonth', 'iday', 'extended', 'resolution', 'country_txt', 'region_txt', 'provstate', 'city', 'latitude',\n",
    "    'longitude', 'summary', 'crit1', 'crit2', 'crit3', 'doubtterr',\n",
    "    'success', 'suicide', 'attacktype1_txt', 'targtype1_txt', 'gname', \n",
    "    'motive', 'guncertain1', 'individual','nperps', 'nperpcap', 'weaptype1_txt', \n",
    "    'weapsubtype1_txt', 'nkill', 'nkillus', 'nkillter', 'nwound', 'nwoundus', 'nwoundte', \n",
    "    'propvalue', 'ishostkid', 'nhostkid', 'nhostkidus', 'nhours', 'ndays', \n",
    "    'ransom', 'ransomamt', 'ransompaid', 'hostkidoutcome_txt', 'nreleased']\n",
    "    def __init__(self, *filenames) -> None:\n",
    "        df = pd.read_csv(filenames[0], encoding='latin1', usecols = self.cols_to_use)\n",
    "        if len(filenames) > 1:\n",
    "            for filename in filenames[1:]:\n",
    "                other_df = pd.read_csv(filename, encoding='latin1', usecols= self.cols_to_use)\n",
    "                df = pd.concat([df, other_df], ignore_index=True)\n",
    "            self.dataframe = df\n",
    "        self.dataframe = df\n",
    "        \n",
    "    def add_date_col(self, year_col: str, month_col: str, day_col: str, sep='-'):\n",
    "        return self.dataframe[year_col].astype('str') + sep + self.dataframe[month_col].astype('str')  + sep\\\n",
    "                + self.dataframe[day_col].astype('str')\n",
    "    def to_date(self, col_name, format=\"%Y-%m-%d\", on_errors='coerce'):\n",
    "        self.dataframe[col_name] = pd.to_datetime(self.dataframe[col_name], format=format, errors=on_errors)\n",
    "    \n",
    "    def determine_doubtterr(self, *criteria) -> None:\n",
    "        self.dataframe.loc[(self.dataframe['crit1'] == criteria[0]) &  (self.dataframe['crit2'] == criteria[1]) & \\\n",
    "              (self.dataframe['crit3'] == criteria[2]), 'doubtterr'] = 0\n",
    "    def fillna_for_certain_cols(self, cols):\n",
    "        return self.dataframe[cols].fillna(0).astype(int)"
   ]
  },
  {
   "cell_type": "code",
   "execution_count": null,
   "metadata": {},
   "outputs": [],
   "source": []
  },
  {
   "cell_type": "code",
   "execution_count": 4,
   "metadata": {},
   "outputs": [],
   "source": [
    "merged_df= Transfrom('globalterrorismdb_0522dist.csv', 'globalterrorismdb_2021Jan-June_1222dist.csv')\n",
    "\n",
    "merged_df.dataframe['idate'] = merged_df.add_date_col('iyear', 'imonth', 'iday')\n",
    "\n",
    "merged_df.to_date('idate')\n",
    "\n",
    "merged_df.determine_doubtterr(1, 1, 1)\n",
    "cols_start_with_n = [col for col in merged_df.dataframe.columns if col.startswith('n') and not col.endswith('txt')]\n",
    "merged_df.dataframe[cols_start_with_n] = merged_df.fillna_for_certain_cols(cols_start_with_n)\n",
    "merged_df.dataframe.to_csv('test.csv', index=False)"
   ]
  },
  {
   "cell_type": "code",
   "execution_count": 5,
   "metadata": {},
   "outputs": [
    {
     "data": {
      "text/plain": [
       "(214666, 46)"
      ]
     },
     "execution_count": 5,
     "metadata": {},
     "output_type": "execute_result"
    }
   ],
   "source": [
    "merged_df.dataframe.shape"
   ]
  },
  {
   "cell_type": "code",
   "execution_count": 6,
   "metadata": {},
   "outputs": [],
   "source": [
    "merged_df.dataframe.to_csv('test.csv', index=False, sep='\\t')"
   ]
  },
  {
   "cell_type": "code",
   "execution_count": 27,
   "metadata": {},
   "outputs": [
    {
     "data": {
      "text/plain": [
       "(75133, 46)"
      ]
     },
     "execution_count": 27,
     "metadata": {},
     "output_type": "execute_result"
    }
   ],
   "source": [
    "new = pd.read_csv('new_test.csv', delimiter='\\t')\n",
    "new.shape"
   ]
  },
  {
   "cell_type": "code",
   "execution_count": 34,
   "metadata": {},
   "outputs": [
    {
     "data": {
      "text/plain": [
       "(75133, 46)"
      ]
     },
     "execution_count": 34,
     "metadata": {},
     "output_type": "execute_result"
    }
   ],
   "source": [
    "\n",
    "test = pd.read_csv('test.csv', delimiter='\\t')\n",
    "test.shape"
   ]
  }
 ],
 "metadata": {
  "kernelspec": {
   "display_name": "myenv",
   "language": "python",
   "name": "python3"
  },
  "language_info": {
   "codemirror_mode": {
    "name": "ipython",
    "version": 3
   },
   "file_extension": ".py",
   "mimetype": "text/x-python",
   "name": "python",
   "nbconvert_exporter": "python",
   "pygments_lexer": "ipython3",
   "version": "3.12.0"
  }
 },
 "nbformat": 4,
 "nbformat_minor": 2
}
